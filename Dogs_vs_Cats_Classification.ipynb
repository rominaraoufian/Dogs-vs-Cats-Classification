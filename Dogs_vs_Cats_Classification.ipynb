{
  "nbformat": 4,
  "nbformat_minor": 0,
  "metadata": {
    "colab": {
      "name": "Dogs-vs-Cats-Classification.ipynb",
      "provenance": [],
      "collapsed_sections": []
    },
    "kernelspec": {
      "name": "python3",
      "display_name": "Python 3"
    },
    "language_info": {
      "name": "python"
    },
    "widgets": {
      "application/vnd.jupyter.widget-state+json": {
        "dff6dda1c08343cb8711c2a5ed593a33": {
          "model_module": "@jupyter-widgets/controls",
          "model_name": "HBoxModel",
          "model_module_version": "1.5.0",
          "state": {
            "_dom_classes": [],
            "_model_module": "@jupyter-widgets/controls",
            "_model_module_version": "1.5.0",
            "_model_name": "HBoxModel",
            "_view_count": null,
            "_view_module": "@jupyter-widgets/controls",
            "_view_module_version": "1.5.0",
            "_view_name": "HBoxView",
            "box_style": "",
            "children": [
              "IPY_MODEL_09b77227f5d6497e9242b6193624a280",
              "IPY_MODEL_d1a0de1b344f4489a6ca7ce2af3e0e85",
              "IPY_MODEL_17acb7665b404b3fb9c5aceee60cd9f0"
            ],
            "layout": "IPY_MODEL_1c4a0c4494714ce7a4591cf15eb590af"
          }
        },
        "09b77227f5d6497e9242b6193624a280": {
          "model_module": "@jupyter-widgets/controls",
          "model_name": "HTMLModel",
          "model_module_version": "1.5.0",
          "state": {
            "_dom_classes": [],
            "_model_module": "@jupyter-widgets/controls",
            "_model_module_version": "1.5.0",
            "_model_name": "HTMLModel",
            "_view_count": null,
            "_view_module": "@jupyter-widgets/controls",
            "_view_module_version": "1.5.0",
            "_view_name": "HTMLView",
            "description": "",
            "description_tooltip": null,
            "layout": "IPY_MODEL_8f0d40aa5ff54cfca48c87d225e28b6d",
            "placeholder": "​",
            "style": "IPY_MODEL_5091c487931e4bed8ca06f583c7b02cd",
            "value": "100%"
          }
        },
        "d1a0de1b344f4489a6ca7ce2af3e0e85": {
          "model_module": "@jupyter-widgets/controls",
          "model_name": "FloatProgressModel",
          "model_module_version": "1.5.0",
          "state": {
            "_dom_classes": [],
            "_model_module": "@jupyter-widgets/controls",
            "_model_module_version": "1.5.0",
            "_model_name": "FloatProgressModel",
            "_view_count": null,
            "_view_module": "@jupyter-widgets/controls",
            "_view_module_version": "1.5.0",
            "_view_name": "ProgressView",
            "bar_style": "success",
            "description": "",
            "description_tooltip": null,
            "layout": "IPY_MODEL_dca8055d44624f7fb3554d26495d4e6c",
            "max": 22500,
            "min": 0,
            "orientation": "horizontal",
            "style": "IPY_MODEL_932c53537f5442e980565379e92d736b",
            "value": 22500
          }
        },
        "17acb7665b404b3fb9c5aceee60cd9f0": {
          "model_module": "@jupyter-widgets/controls",
          "model_name": "HTMLModel",
          "model_module_version": "1.5.0",
          "state": {
            "_dom_classes": [],
            "_model_module": "@jupyter-widgets/controls",
            "_model_module_version": "1.5.0",
            "_model_name": "HTMLModel",
            "_view_count": null,
            "_view_module": "@jupyter-widgets/controls",
            "_view_module_version": "1.5.0",
            "_view_name": "HTMLView",
            "description": "",
            "description_tooltip": null,
            "layout": "IPY_MODEL_f394482ebf0d4ca7bd6a40bbc69e4243",
            "placeholder": "​",
            "style": "IPY_MODEL_8130b9505f0444a5ade6e8f586b22cb8",
            "value": " 22500/22500 [00:03&lt;00:00, 7956.95it/s]"
          }
        },
        "1c4a0c4494714ce7a4591cf15eb590af": {
          "model_module": "@jupyter-widgets/base",
          "model_name": "LayoutModel",
          "model_module_version": "1.2.0",
          "state": {
            "_model_module": "@jupyter-widgets/base",
            "_model_module_version": "1.2.0",
            "_model_name": "LayoutModel",
            "_view_count": null,
            "_view_module": "@jupyter-widgets/base",
            "_view_module_version": "1.2.0",
            "_view_name": "LayoutView",
            "align_content": null,
            "align_items": null,
            "align_self": null,
            "border": null,
            "bottom": null,
            "display": null,
            "flex": null,
            "flex_flow": null,
            "grid_area": null,
            "grid_auto_columns": null,
            "grid_auto_flow": null,
            "grid_auto_rows": null,
            "grid_column": null,
            "grid_gap": null,
            "grid_row": null,
            "grid_template_areas": null,
            "grid_template_columns": null,
            "grid_template_rows": null,
            "height": null,
            "justify_content": null,
            "justify_items": null,
            "left": null,
            "margin": null,
            "max_height": null,
            "max_width": null,
            "min_height": null,
            "min_width": null,
            "object_fit": null,
            "object_position": null,
            "order": null,
            "overflow": null,
            "overflow_x": null,
            "overflow_y": null,
            "padding": null,
            "right": null,
            "top": null,
            "visibility": null,
            "width": null
          }
        },
        "8f0d40aa5ff54cfca48c87d225e28b6d": {
          "model_module": "@jupyter-widgets/base",
          "model_name": "LayoutModel",
          "model_module_version": "1.2.0",
          "state": {
            "_model_module": "@jupyter-widgets/base",
            "_model_module_version": "1.2.0",
            "_model_name": "LayoutModel",
            "_view_count": null,
            "_view_module": "@jupyter-widgets/base",
            "_view_module_version": "1.2.0",
            "_view_name": "LayoutView",
            "align_content": null,
            "align_items": null,
            "align_self": null,
            "border": null,
            "bottom": null,
            "display": null,
            "flex": null,
            "flex_flow": null,
            "grid_area": null,
            "grid_auto_columns": null,
            "grid_auto_flow": null,
            "grid_auto_rows": null,
            "grid_column": null,
            "grid_gap": null,
            "grid_row": null,
            "grid_template_areas": null,
            "grid_template_columns": null,
            "grid_template_rows": null,
            "height": null,
            "justify_content": null,
            "justify_items": null,
            "left": null,
            "margin": null,
            "max_height": null,
            "max_width": null,
            "min_height": null,
            "min_width": null,
            "object_fit": null,
            "object_position": null,
            "order": null,
            "overflow": null,
            "overflow_x": null,
            "overflow_y": null,
            "padding": null,
            "right": null,
            "top": null,
            "visibility": null,
            "width": null
          }
        },
        "5091c487931e4bed8ca06f583c7b02cd": {
          "model_module": "@jupyter-widgets/controls",
          "model_name": "DescriptionStyleModel",
          "model_module_version": "1.5.0",
          "state": {
            "_model_module": "@jupyter-widgets/controls",
            "_model_module_version": "1.5.0",
            "_model_name": "DescriptionStyleModel",
            "_view_count": null,
            "_view_module": "@jupyter-widgets/base",
            "_view_module_version": "1.2.0",
            "_view_name": "StyleView",
            "description_width": ""
          }
        },
        "dca8055d44624f7fb3554d26495d4e6c": {
          "model_module": "@jupyter-widgets/base",
          "model_name": "LayoutModel",
          "model_module_version": "1.2.0",
          "state": {
            "_model_module": "@jupyter-widgets/base",
            "_model_module_version": "1.2.0",
            "_model_name": "LayoutModel",
            "_view_count": null,
            "_view_module": "@jupyter-widgets/base",
            "_view_module_version": "1.2.0",
            "_view_name": "LayoutView",
            "align_content": null,
            "align_items": null,
            "align_self": null,
            "border": null,
            "bottom": null,
            "display": null,
            "flex": null,
            "flex_flow": null,
            "grid_area": null,
            "grid_auto_columns": null,
            "grid_auto_flow": null,
            "grid_auto_rows": null,
            "grid_column": null,
            "grid_gap": null,
            "grid_row": null,
            "grid_template_areas": null,
            "grid_template_columns": null,
            "grid_template_rows": null,
            "height": null,
            "justify_content": null,
            "justify_items": null,
            "left": null,
            "margin": null,
            "max_height": null,
            "max_width": null,
            "min_height": null,
            "min_width": null,
            "object_fit": null,
            "object_position": null,
            "order": null,
            "overflow": null,
            "overflow_x": null,
            "overflow_y": null,
            "padding": null,
            "right": null,
            "top": null,
            "visibility": null,
            "width": null
          }
        },
        "932c53537f5442e980565379e92d736b": {
          "model_module": "@jupyter-widgets/controls",
          "model_name": "ProgressStyleModel",
          "model_module_version": "1.5.0",
          "state": {
            "_model_module": "@jupyter-widgets/controls",
            "_model_module_version": "1.5.0",
            "_model_name": "ProgressStyleModel",
            "_view_count": null,
            "_view_module": "@jupyter-widgets/base",
            "_view_module_version": "1.2.0",
            "_view_name": "StyleView",
            "bar_color": null,
            "description_width": ""
          }
        },
        "f394482ebf0d4ca7bd6a40bbc69e4243": {
          "model_module": "@jupyter-widgets/base",
          "model_name": "LayoutModel",
          "model_module_version": "1.2.0",
          "state": {
            "_model_module": "@jupyter-widgets/base",
            "_model_module_version": "1.2.0",
            "_model_name": "LayoutModel",
            "_view_count": null,
            "_view_module": "@jupyter-widgets/base",
            "_view_module_version": "1.2.0",
            "_view_name": "LayoutView",
            "align_content": null,
            "align_items": null,
            "align_self": null,
            "border": null,
            "bottom": null,
            "display": null,
            "flex": null,
            "flex_flow": null,
            "grid_area": null,
            "grid_auto_columns": null,
            "grid_auto_flow": null,
            "grid_auto_rows": null,
            "grid_column": null,
            "grid_gap": null,
            "grid_row": null,
            "grid_template_areas": null,
            "grid_template_columns": null,
            "grid_template_rows": null,
            "height": null,
            "justify_content": null,
            "justify_items": null,
            "left": null,
            "margin": null,
            "max_height": null,
            "max_width": null,
            "min_height": null,
            "min_width": null,
            "object_fit": null,
            "object_position": null,
            "order": null,
            "overflow": null,
            "overflow_x": null,
            "overflow_y": null,
            "padding": null,
            "right": null,
            "top": null,
            "visibility": null,
            "width": null
          }
        },
        "8130b9505f0444a5ade6e8f586b22cb8": {
          "model_module": "@jupyter-widgets/controls",
          "model_name": "DescriptionStyleModel",
          "model_module_version": "1.5.0",
          "state": {
            "_model_module": "@jupyter-widgets/controls",
            "_model_module_version": "1.5.0",
            "_model_name": "DescriptionStyleModel",
            "_view_count": null,
            "_view_module": "@jupyter-widgets/base",
            "_view_module_version": "1.2.0",
            "_view_name": "StyleView",
            "description_width": ""
          }
        },
        "9349dce31c54452eae4e0e0e287f1ad6": {
          "model_module": "@jupyter-widgets/controls",
          "model_name": "HBoxModel",
          "model_module_version": "1.5.0",
          "state": {
            "_dom_classes": [],
            "_model_module": "@jupyter-widgets/controls",
            "_model_module_version": "1.5.0",
            "_model_name": "HBoxModel",
            "_view_count": null,
            "_view_module": "@jupyter-widgets/controls",
            "_view_module_version": "1.5.0",
            "_view_name": "HBoxView",
            "box_style": "",
            "children": [
              "IPY_MODEL_bf0e429e7bd84477a12cb7e4799090f4",
              "IPY_MODEL_f2af790b34b44995944e36177b6af19f",
              "IPY_MODEL_548981e1372d4931990cef3fb3999ca6"
            ],
            "layout": "IPY_MODEL_323381344b9b4eab87d5c6fd1f6d1cc1"
          }
        },
        "bf0e429e7bd84477a12cb7e4799090f4": {
          "model_module": "@jupyter-widgets/controls",
          "model_name": "HTMLModel",
          "model_module_version": "1.5.0",
          "state": {
            "_dom_classes": [],
            "_model_module": "@jupyter-widgets/controls",
            "_model_module_version": "1.5.0",
            "_model_name": "HTMLModel",
            "_view_count": null,
            "_view_module": "@jupyter-widgets/controls",
            "_view_module_version": "1.5.0",
            "_view_name": "HTMLView",
            "description": "",
            "description_tooltip": null,
            "layout": "IPY_MODEL_f02f2508cb9c4051abc4f66fbfaec0ff",
            "placeholder": "​",
            "style": "IPY_MODEL_9f7bf095e02941ac90747206530d303a",
            "value": "100%"
          }
        },
        "f2af790b34b44995944e36177b6af19f": {
          "model_module": "@jupyter-widgets/controls",
          "model_name": "FloatProgressModel",
          "model_module_version": "1.5.0",
          "state": {
            "_dom_classes": [],
            "_model_module": "@jupyter-widgets/controls",
            "_model_module_version": "1.5.0",
            "_model_name": "FloatProgressModel",
            "_view_count": null,
            "_view_module": "@jupyter-widgets/controls",
            "_view_module_version": "1.5.0",
            "_view_name": "ProgressView",
            "bar_style": "success",
            "description": "",
            "description_tooltip": null,
            "layout": "IPY_MODEL_eb5ec6f236644a7caa8bdb706ee7e470",
            "max": 2500,
            "min": 0,
            "orientation": "horizontal",
            "style": "IPY_MODEL_7ab4173c3b6d4d23a6289414a68d2d80",
            "value": 2500
          }
        },
        "548981e1372d4931990cef3fb3999ca6": {
          "model_module": "@jupyter-widgets/controls",
          "model_name": "HTMLModel",
          "model_module_version": "1.5.0",
          "state": {
            "_dom_classes": [],
            "_model_module": "@jupyter-widgets/controls",
            "_model_module_version": "1.5.0",
            "_model_name": "HTMLModel",
            "_view_count": null,
            "_view_module": "@jupyter-widgets/controls",
            "_view_module_version": "1.5.0",
            "_view_name": "HTMLView",
            "description": "",
            "description_tooltip": null,
            "layout": "IPY_MODEL_66857e86df614cd98190c87d88b0f904",
            "placeholder": "​",
            "style": "IPY_MODEL_1ece6885220647cc9f34222848e7d266",
            "value": " 2500/2500 [00:00&lt;00:00, 7893.23it/s]"
          }
        },
        "323381344b9b4eab87d5c6fd1f6d1cc1": {
          "model_module": "@jupyter-widgets/base",
          "model_name": "LayoutModel",
          "model_module_version": "1.2.0",
          "state": {
            "_model_module": "@jupyter-widgets/base",
            "_model_module_version": "1.2.0",
            "_model_name": "LayoutModel",
            "_view_count": null,
            "_view_module": "@jupyter-widgets/base",
            "_view_module_version": "1.2.0",
            "_view_name": "LayoutView",
            "align_content": null,
            "align_items": null,
            "align_self": null,
            "border": null,
            "bottom": null,
            "display": null,
            "flex": null,
            "flex_flow": null,
            "grid_area": null,
            "grid_auto_columns": null,
            "grid_auto_flow": null,
            "grid_auto_rows": null,
            "grid_column": null,
            "grid_gap": null,
            "grid_row": null,
            "grid_template_areas": null,
            "grid_template_columns": null,
            "grid_template_rows": null,
            "height": null,
            "justify_content": null,
            "justify_items": null,
            "left": null,
            "margin": null,
            "max_height": null,
            "max_width": null,
            "min_height": null,
            "min_width": null,
            "object_fit": null,
            "object_position": null,
            "order": null,
            "overflow": null,
            "overflow_x": null,
            "overflow_y": null,
            "padding": null,
            "right": null,
            "top": null,
            "visibility": null,
            "width": null
          }
        },
        "f02f2508cb9c4051abc4f66fbfaec0ff": {
          "model_module": "@jupyter-widgets/base",
          "model_name": "LayoutModel",
          "model_module_version": "1.2.0",
          "state": {
            "_model_module": "@jupyter-widgets/base",
            "_model_module_version": "1.2.0",
            "_model_name": "LayoutModel",
            "_view_count": null,
            "_view_module": "@jupyter-widgets/base",
            "_view_module_version": "1.2.0",
            "_view_name": "LayoutView",
            "align_content": null,
            "align_items": null,
            "align_self": null,
            "border": null,
            "bottom": null,
            "display": null,
            "flex": null,
            "flex_flow": null,
            "grid_area": null,
            "grid_auto_columns": null,
            "grid_auto_flow": null,
            "grid_auto_rows": null,
            "grid_column": null,
            "grid_gap": null,
            "grid_row": null,
            "grid_template_areas": null,
            "grid_template_columns": null,
            "grid_template_rows": null,
            "height": null,
            "justify_content": null,
            "justify_items": null,
            "left": null,
            "margin": null,
            "max_height": null,
            "max_width": null,
            "min_height": null,
            "min_width": null,
            "object_fit": null,
            "object_position": null,
            "order": null,
            "overflow": null,
            "overflow_x": null,
            "overflow_y": null,
            "padding": null,
            "right": null,
            "top": null,
            "visibility": null,
            "width": null
          }
        },
        "9f7bf095e02941ac90747206530d303a": {
          "model_module": "@jupyter-widgets/controls",
          "model_name": "DescriptionStyleModel",
          "model_module_version": "1.5.0",
          "state": {
            "_model_module": "@jupyter-widgets/controls",
            "_model_module_version": "1.5.0",
            "_model_name": "DescriptionStyleModel",
            "_view_count": null,
            "_view_module": "@jupyter-widgets/base",
            "_view_module_version": "1.2.0",
            "_view_name": "StyleView",
            "description_width": ""
          }
        },
        "eb5ec6f236644a7caa8bdb706ee7e470": {
          "model_module": "@jupyter-widgets/base",
          "model_name": "LayoutModel",
          "model_module_version": "1.2.0",
          "state": {
            "_model_module": "@jupyter-widgets/base",
            "_model_module_version": "1.2.0",
            "_model_name": "LayoutModel",
            "_view_count": null,
            "_view_module": "@jupyter-widgets/base",
            "_view_module_version": "1.2.0",
            "_view_name": "LayoutView",
            "align_content": null,
            "align_items": null,
            "align_self": null,
            "border": null,
            "bottom": null,
            "display": null,
            "flex": null,
            "flex_flow": null,
            "grid_area": null,
            "grid_auto_columns": null,
            "grid_auto_flow": null,
            "grid_auto_rows": null,
            "grid_column": null,
            "grid_gap": null,
            "grid_row": null,
            "grid_template_areas": null,
            "grid_template_columns": null,
            "grid_template_rows": null,
            "height": null,
            "justify_content": null,
            "justify_items": null,
            "left": null,
            "margin": null,
            "max_height": null,
            "max_width": null,
            "min_height": null,
            "min_width": null,
            "object_fit": null,
            "object_position": null,
            "order": null,
            "overflow": null,
            "overflow_x": null,
            "overflow_y": null,
            "padding": null,
            "right": null,
            "top": null,
            "visibility": null,
            "width": null
          }
        },
        "7ab4173c3b6d4d23a6289414a68d2d80": {
          "model_module": "@jupyter-widgets/controls",
          "model_name": "ProgressStyleModel",
          "model_module_version": "1.5.0",
          "state": {
            "_model_module": "@jupyter-widgets/controls",
            "_model_module_version": "1.5.0",
            "_model_name": "ProgressStyleModel",
            "_view_count": null,
            "_view_module": "@jupyter-widgets/base",
            "_view_module_version": "1.2.0",
            "_view_name": "StyleView",
            "bar_color": null,
            "description_width": ""
          }
        },
        "66857e86df614cd98190c87d88b0f904": {
          "model_module": "@jupyter-widgets/base",
          "model_name": "LayoutModel",
          "model_module_version": "1.2.0",
          "state": {
            "_model_module": "@jupyter-widgets/base",
            "_model_module_version": "1.2.0",
            "_model_name": "LayoutModel",
            "_view_count": null,
            "_view_module": "@jupyter-widgets/base",
            "_view_module_version": "1.2.0",
            "_view_name": "LayoutView",
            "align_content": null,
            "align_items": null,
            "align_self": null,
            "border": null,
            "bottom": null,
            "display": null,
            "flex": null,
            "flex_flow": null,
            "grid_area": null,
            "grid_auto_columns": null,
            "grid_auto_flow": null,
            "grid_auto_rows": null,
            "grid_column": null,
            "grid_gap": null,
            "grid_row": null,
            "grid_template_areas": null,
            "grid_template_columns": null,
            "grid_template_rows": null,
            "height": null,
            "justify_content": null,
            "justify_items": null,
            "left": null,
            "margin": null,
            "max_height": null,
            "max_width": null,
            "min_height": null,
            "min_width": null,
            "object_fit": null,
            "object_position": null,
            "order": null,
            "overflow": null,
            "overflow_x": null,
            "overflow_y": null,
            "padding": null,
            "right": null,
            "top": null,
            "visibility": null,
            "width": null
          }
        },
        "1ece6885220647cc9f34222848e7d266": {
          "model_module": "@jupyter-widgets/controls",
          "model_name": "DescriptionStyleModel",
          "model_module_version": "1.5.0",
          "state": {
            "_model_module": "@jupyter-widgets/controls",
            "_model_module_version": "1.5.0",
            "_model_name": "DescriptionStyleModel",
            "_view_count": null,
            "_view_module": "@jupyter-widgets/base",
            "_view_module_version": "1.2.0",
            "_view_name": "StyleView",
            "description_width": ""
          }
        }
      }
    },
    "gpuClass": "standard",
    "accelerator": "GPU"
  },
  "cells": [
    {
      "cell_type": "code",
      "source": [
        "# import shutil\n",
        "# shutil.rmtree('/content/train', ignore_errors=True)\n",
        "# shutil.rmtree('/content/test', ignore_errors=True)\n",
        "# shutil.rmtree('/content/cats-v-dogs', ignore_errors=True)"
      ],
      "metadata": {
        "id": "1ThbWERGcpww"
      },
      "execution_count": null,
      "outputs": []
    },
    {
      "cell_type": "code",
      "metadata": {
        "id": "3owZ9GTo3foD",
        "colab": {
          "resources": {
            "http://localhost:8080/nbextensions/google.colab/files.js": {
              "data": "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",
              "ok": true,
              "headers": [
                [
                  "content-type",
                  "application/javascript"
                ]
              ],
              "status": 200,
              "status_text": ""
            }
          },
          "base_uri": "https://localhost:8080/",
          "height": 91
        },
        "outputId": "5a747778-5338-4094-d596-639e71d1839a"
      },
      "source": [
        "from IPython.display import clear_output\n",
        "!pip install --upgrade kaggle\n",
        "clear_output()\n",
        "from google.colab import files\n",
        "\n",
        "uploaded = files.upload()\n",
        "\n",
        "for fn in uploaded.keys():\n",
        "  print('User uploaded file \"{name}\" with length {length} bytes'.format(\n",
        "      name=fn, length=len(uploaded[fn])))\n",
        "  \n",
        "!mkdir -p ~/.kaggle/ && mv kaggle.json ~/.kaggle/ && chmod 600 ~/.kaggle/kaggle.json"
      ],
      "execution_count": 1,
      "outputs": [
        {
          "output_type": "display_data",
          "data": {
            "text/plain": [
              "<IPython.core.display.HTML object>"
            ],
            "text/html": [
              "\n",
              "     <input type=\"file\" id=\"files-95ed1ada-bd31-4189-a8f3-6f6a3a1098fd\" name=\"files[]\" multiple disabled\n",
              "        style=\"border:none\" />\n",
              "     <output id=\"result-95ed1ada-bd31-4189-a8f3-6f6a3a1098fd\">\n",
              "      Upload widget is only available when the cell has been executed in the\n",
              "      current browser session. Please rerun this cell to enable.\n",
              "      </output>\n",
              "      <script src=\"/nbextensions/google.colab/files.js\"></script> "
            ]
          },
          "metadata": {}
        },
        {
          "output_type": "stream",
          "name": "stdout",
          "text": [
            "Saving kaggle.json to kaggle.json\n",
            "User uploaded file \"kaggle.json\" with length 70 bytes\n"
          ]
        }
      ]
    },
    {
      "cell_type": "code",
      "metadata": {
        "id": "U0jAA7O3452-",
        "colab": {
          "base_uri": "https://localhost:8080/"
        },
        "outputId": "970bf9b6-e977-47a2-aaf6-3ab3c4c504fd"
      },
      "source": [
        "!kaggle competitions download -c dogs-vs-cats-redux-kernels-edition"
      ],
      "execution_count": 3,
      "outputs": [
        {
          "output_type": "stream",
          "name": "stdout",
          "text": [
            "Downloading dogs-vs-cats-redux-kernels-edition.zip to /content\n",
            " 99% 805M/814M [00:02<00:00, 315MB/s]\n",
            "100% 814M/814M [00:02<00:00, 287MB/s]\n"
          ]
        }
      ]
    },
    {
      "cell_type": "code",
      "source": [
        "from google.colab import drive\n",
        "drive.mount('/content/drive')"
      ],
      "metadata": {
        "colab": {
          "base_uri": "https://localhost:8080/"
        },
        "id": "DjCz14By7tmZ",
        "outputId": "20191c90-7b27-47ea-946b-f3488b82ef98"
      },
      "execution_count": 4,
      "outputs": [
        {
          "output_type": "stream",
          "name": "stdout",
          "text": [
            "Mounted at /content/drive\n"
          ]
        }
      ]
    },
    {
      "cell_type": "code",
      "metadata": {
        "id": "ytMjJDsq2SJx"
      },
      "source": [
        "!unzip -qx /content/dogs-vs-cats-redux-kernels-edition.zip"
      ],
      "execution_count": 5,
      "outputs": []
    },
    {
      "cell_type": "code",
      "source": [
        "!unzip -qx /content/train.zip\n",
        "!unzip -qx /content/test.zip"
      ],
      "metadata": {
        "id": "WDnDNQzeA65I"
      },
      "execution_count": 6,
      "outputs": []
    },
    {
      "cell_type": "code",
      "metadata": {
        "id": "hJW-YusN2pPg"
      },
      "source": [
        "import os\n",
        "from glob import glob\n",
        "from tqdm.notebook import tqdm\n",
        "from shutil import copy\n",
        "import pandas as pd\n",
        "import cv2"
      ],
      "execution_count": null,
      "outputs": []
    },
    {
      "cell_type": "code",
      "source": [
        "all_dogs = glob('/content/train/dog*')\n",
        "all_cats= glob('/content/train/cat*')\n",
        "all_dogs = sorted(all_dogs)\n",
        "all_cats = sorted(all_cats)\n",
        "print('Count of all dogs: ' ,len(all_dogs))\n",
        "print('Count of all cats: ' ,len(all_cats))"
      ],
      "metadata": {
        "colab": {
          "base_uri": "https://localhost:8080/"
        },
        "id": "h70VvVgaCVHP",
        "outputId": "73fdcf6b-f783-4e83-d548-0a5f82d30303"
      },
      "execution_count": null,
      "outputs": [
        {
          "output_type": "stream",
          "name": "stdout",
          "text": [
            "Count of all dogs:  12500\n",
            "Count of all cats:  12500\n"
          ]
        }
      ]
    },
    {
      "cell_type": "code",
      "metadata": {
        "id": "GSQfhp7xDC2H"
      },
      "source": [
        "all_images = glob('/content/train/*')"
      ],
      "execution_count": null,
      "outputs": []
    },
    {
      "cell_type": "code",
      "source": [
        "print(len(all_images))"
      ],
      "metadata": {
        "colab": {
          "base_uri": "https://localhost:8080/"
        },
        "id": "IgPp5q0lCIGJ",
        "outputId": "103caaff-086d-4d8e-f6bf-829d1600eaa9"
      },
      "execution_count": null,
      "outputs": [
        {
          "output_type": "stream",
          "name": "stdout",
          "text": [
            "25000\n"
          ]
        }
      ]
    },
    {
      "cell_type": "code",
      "metadata": {
        "id": "E7DN0gci60xm"
      },
      "source": [
        "train_dir = '/content/cats-v-dogs/training/'\n",
        "test_dir = '/content/cats-v-dogs/testing/'\n",
        "to_create = [\n",
        "            train_dir,\n",
        "            test_dir,\n",
        "]\n",
        "\n",
        "for dir in to_create:\n",
        "  os.makedirs(dir, exist_ok=True)"
      ],
      "execution_count": null,
      "outputs": []
    },
    {
      "cell_type": "code",
      "metadata": {
        "id": "4oE3_149796V"
      },
      "source": [
        "from sklearn.model_selection import train_test_split\n",
        "training_images, testing_images = train_test_split(all_images, test_size=0.1, random_state=101)"
      ],
      "execution_count": null,
      "outputs": []
    },
    {
      "cell_type": "code",
      "metadata": {
        "colab": {
          "base_uri": "https://localhost:8080/"
        },
        "id": "ghaVrFjXDmtx",
        "outputId": "552f08a3-e87b-416e-e26d-3f9923ed3da9"
      },
      "source": [
        "print(len(training_images))\n",
        "print(len(testing_images))"
      ],
      "execution_count": null,
      "outputs": [
        {
          "output_type": "stream",
          "name": "stdout",
          "text": [
            "22500\n",
            "2500\n"
          ]
        }
      ]
    },
    {
      "cell_type": "code",
      "metadata": {
        "colab": {
          "base_uri": "https://localhost:8080/",
          "height": 116,
          "referenced_widgets": [
            "dff6dda1c08343cb8711c2a5ed593a33",
            "09b77227f5d6497e9242b6193624a280",
            "d1a0de1b344f4489a6ca7ce2af3e0e85",
            "17acb7665b404b3fb9c5aceee60cd9f0",
            "1c4a0c4494714ce7a4591cf15eb590af",
            "8f0d40aa5ff54cfca48c87d225e28b6d",
            "5091c487931e4bed8ca06f583c7b02cd",
            "dca8055d44624f7fb3554d26495d4e6c",
            "932c53537f5442e980565379e92d736b",
            "f394482ebf0d4ca7bd6a40bbc69e4243",
            "8130b9505f0444a5ade6e8f586b22cb8",
            "9349dce31c54452eae4e0e0e287f1ad6",
            "bf0e429e7bd84477a12cb7e4799090f4",
            "f2af790b34b44995944e36177b6af19f",
            "548981e1372d4931990cef3fb3999ca6",
            "323381344b9b4eab87d5c6fd1f6d1cc1",
            "f02f2508cb9c4051abc4f66fbfaec0ff",
            "9f7bf095e02941ac90747206530d303a",
            "eb5ec6f236644a7caa8bdb706ee7e470",
            "7ab4173c3b6d4d23a6289414a68d2d80",
            "66857e86df614cd98190c87d88b0f904",
            "1ece6885220647cc9f34222848e7d266"
          ]
        },
        "id": "VVj9rkOd8dmD",
        "outputId": "e03c4161-d06c-4746-f0f1-c81699a900b6"
      },
      "source": [
        "print(train_dir)\n",
        "for name in tqdm(training_images):\n",
        "   copy(name , os.path.join(train_dir , name.split('/')[-1]))\n",
        "print(test_dir)\n",
        "for name in tqdm(testing_images):\n",
        "   copy(name , os.path.join(test_dir , name.split('/')[-1]))"
      ],
      "execution_count": null,
      "outputs": [
        {
          "output_type": "stream",
          "name": "stdout",
          "text": [
            "/content/cats-v-dogs/training/\n"
          ]
        },
        {
          "output_type": "display_data",
          "data": {
            "text/plain": [
              "  0%|          | 0/22500 [00:00<?, ?it/s]"
            ],
            "application/vnd.jupyter.widget-view+json": {
              "version_major": 2,
              "version_minor": 0,
              "model_id": "dff6dda1c08343cb8711c2a5ed593a33"
            }
          },
          "metadata": {}
        },
        {
          "output_type": "stream",
          "name": "stdout",
          "text": [
            "/content/cats-v-dogs/testing/\n"
          ]
        },
        {
          "output_type": "display_data",
          "data": {
            "text/plain": [
              "  0%|          | 0/2500 [00:00<?, ?it/s]"
            ],
            "application/vnd.jupyter.widget-view+json": {
              "version_major": 2,
              "version_minor": 0,
              "model_id": "9349dce31c54452eae4e0e0e287f1ad6"
            }
          },
          "metadata": {}
        }
      ]
    },
    {
      "cell_type": "code",
      "metadata": {
        "colab": {
          "base_uri": "https://localhost:8080/"
        },
        "id": "BbYrVxYK8jUo",
        "outputId": "c118963b-bb8b-4d8b-ff26-6bfe2c07dfbc"
      },
      "source": [
        "print(len(os.listdir(train_dir)))\n",
        "print(len(os.listdir(test_dir)))"
      ],
      "execution_count": null,
      "outputs": [
        {
          "output_type": "stream",
          "name": "stdout",
          "text": [
            "22500\n",
            "2500\n"
          ]
        }
      ]
    },
    {
      "cell_type": "markdown",
      "metadata": {
        "id": "vzjHjdpX9NMK"
      },
      "source": [
        "## prepare dataset"
      ]
    },
    {
      "cell_type": "code",
      "metadata": {
        "id": "2G6OWDsp9Q9o"
      },
      "source": [
        "from torch.utils.data import DataLoader, Dataset\n",
        "from PIL import Image\n",
        "from torchvision import transforms\n",
        "import torch\n",
        "# Dataset\n",
        "class CatsDogs(Dataset):\n",
        "  def __init__(self, directory = '/content/cats-v-dogs/testing' , transform = None):\n",
        "    super().__init__()\n",
        "    self.names = glob(directory+'/*.jpg')[:]\n",
        "    self.labels = []\n",
        "    self.transform = transform\n",
        "    \n",
        "    for name in self.names: \n",
        "      if 'cat.' in name:\n",
        "        self.labels.append(0)\n",
        "      else:\n",
        "        self.labels.append(1)\n",
        "    self.labels = torch.tensor(self.labels, dtype = torch.float32)\n",
        "    self.labels = torch.unsqueeze(self.labels, 1)\n",
        "\n",
        "  def __len__(self):\n",
        "    return (len(self.names))\n",
        "  \n",
        "  def __getitem__(self, idx):\n",
        "    x = Image.open(self.names[idx])\n",
        "    x = self.transform(x)\n",
        "    y = self.labels[idx]\n",
        "    return x,y"
      ],
      "execution_count": null,
      "outputs": []
    },
    {
      "cell_type": "code",
      "metadata": {
        "id": "-G-s5cfYF1Gm"
      },
      "source": [
        "train_transforms = transforms.Compose([\n",
        "                          transforms.ToTensor(),\n",
        "                          transforms.Resize((160,160)),\n",
        "                          transforms.Normalize(mean=([0.485, 0.456, 0.406]),std=([0.229, 0.224, 0.225])),\n",
        "                          \n",
        "\n",
        "])\n",
        "\n",
        "test_transforms = transforms.Compose([\n",
        "                          transforms.ToTensor(),\n",
        "                          transforms.Resize((160,160)),\n",
        "                          transforms.Normalize(mean=([0.485, 0.456, 0.406]),std=([0.229, 0.224, 0.225]))\n",
        "])"
      ],
      "execution_count": null,
      "outputs": []
    },
    {
      "cell_type": "code",
      "metadata": {
        "id": "F8KhMihIAiKi"
      },
      "source": [
        "train_dataset = CatsDogs(directory='/content/cats-v-dogs/training', transform=train_transforms)\n",
        "test_dataset = CatsDogs(directory='/content/cats-v-dogs/testing', transform=test_transforms)"
      ],
      "execution_count": null,
      "outputs": []
    },
    {
      "cell_type": "code",
      "source": [
        "for img in train_dataset:\n",
        "\n",
        "  if img[0].shape[0] != 3:\n",
        "    print (img[0].shape)\n"
      ],
      "metadata": {
        "id": "gKyGNfF_9gEN"
      },
      "execution_count": null,
      "outputs": []
    },
    {
      "cell_type": "code",
      "source": [
        "train_loader = DataLoader(train_dataset, batch_size=64, num_workers=2)\n",
        "test_loader = DataLoader(test_dataset, batch_size=64, num_workers=2)"
      ],
      "metadata": {
        "id": "rVz8mY8a9c-x"
      },
      "execution_count": null,
      "outputs": []
    },
    {
      "cell_type": "code",
      "metadata": {
        "id": "DqUArf7JA64S"
      },
      "source": [
        "train_loader_it = iter(train_loader)"
      ],
      "execution_count": null,
      "outputs": []
    },
    {
      "cell_type": "code",
      "source": [
        "print(next(train_loader_it)[0].shape)\n",
        "print(next(train_loader_it)[1].shape)"
      ],
      "metadata": {
        "colab": {
          "base_uri": "https://localhost:8080/"
        },
        "id": "cQ8FRorpuVFQ",
        "outputId": "d27d0097-74df-44ab-d723-9a7c8395e297"
      },
      "execution_count": null,
      "outputs": [
        {
          "output_type": "stream",
          "name": "stdout",
          "text": [
            "torch.Size([64, 3, 160, 160])\n",
            "torch.Size([64, 1])\n"
          ]
        }
      ]
    },
    {
      "cell_type": "markdown",
      "metadata": {
        "id": "Q0LKe974GsJ2"
      },
      "source": [
        "## train model"
      ]
    },
    {
      "cell_type": "code",
      "metadata": {
        "id": "vJ42RZEkKd7E"
      },
      "source": [
        "import numpy as np\n",
        "import matplotlib.pyplot as plt\n",
        "import torch\n",
        "from torch import nn\n",
        "from time import time"
      ],
      "execution_count": null,
      "outputs": []
    },
    {
      "cell_type": "code",
      "metadata": {
        "id": "_6ZfW6cfGvj5"
      },
      "source": [
        "import torch\n",
        "from torch import nn\n",
        "\n",
        "\n",
        "class My_Classifier(nn.Module):\n",
        "  def __init__(self):\n",
        "    super().__init__()\n",
        "    self.conv1 = nn.Conv2d(in_channels=3, out_channels=10, kernel_size=3)\n",
        "    self.conv2 = nn.Conv2d(in_channels=10, out_channels=16, kernel_size=3)\n",
        "\n",
        "    self.conv3 = nn.Conv2d(in_channels=16, out_channels=20, kernel_size=3)\n",
        "    self.conv4 = nn.Conv2d(in_channels=20, out_channels=28, kernel_size=3)\n",
        "\n",
        "    self.conv5 = nn.Conv2d(in_channels=28, out_channels=32, kernel_size=3)\n",
        "    self.conv6 = nn.Conv2d(in_channels=32, out_channels=64, kernel_size=3)\n",
        "\n",
        "    self.maxpool = nn.MaxPool2d(kernel_size=2)\n",
        "    self.relu = nn.ReLU()\n",
        "    \n",
        "    self.flatten = nn.Flatten()\n",
        "\n",
        "    self.fc1 = nn.Linear(in_features=16384, out_features=128)\n",
        "    self.fc2 = nn.Linear(in_features=128, out_features=1)\n",
        "    \n",
        "    self.dropout = nn.Dropout2d(0.2)\n",
        "\n",
        "  def forward(self, input):\n",
        "    #print(input.shape)\n",
        "    x = self.conv1(input)\n",
        "    x = self.relu(x)\n",
        "    #print(x.shape)\n",
        "\n",
        "    x = self.conv2(x)\n",
        "    x = self.relu(x)\n",
        "    #print(x.shape)\n",
        "\n",
        "    x = self.maxpool(x)\n",
        "    x = self.dropout(x)\n",
        "\n",
        "    x = self.conv3(x)\n",
        "    x = self.relu(x)\n",
        "    #print(x.shape)\n",
        "\n",
        "    x = self.conv4(x)\n",
        "    x = self.relu(x)\n",
        "    #print(x.shape)\n",
        "\n",
        "    x = self.maxpool(x)\n",
        "    x = self.dropout(x)\n",
        "\n",
        "    x = self.conv5(x)\n",
        "    x = self.relu(x)\n",
        "    #print(x.shape)\n",
        "\n",
        "    x = self.conv6(x)\n",
        "    x = self.relu(x)\n",
        "    #print(x.shape)\n",
        "\n",
        "    x = self.maxpool(x)\n",
        "    x = self.dropout(x)\n",
        "    #print(x.shape)\n",
        "    x = self.flatten(x)\n",
        "    #print(x.shape)\n",
        "\n",
        "    x = self.fc1(x)\n",
        "    x = self.relu(x)\n",
        "    #print(x.shape)\n",
        "\n",
        "    y = self.fc2(x)\n",
        "\n",
        "\n",
        "\n",
        "    return y"
      ],
      "execution_count": null,
      "outputs": []
    },
    {
      "cell_type": "code",
      "source": [
        "mymodel =  My_Classifier()"
      ],
      "metadata": {
        "id": "xxGcDifqxJzb"
      },
      "execution_count": null,
      "outputs": []
    },
    {
      "cell_type": "code",
      "metadata": {
        "colab": {
          "base_uri": "https://localhost:8080/"
        },
        "id": "5Gr-Z0EiG4Kq",
        "outputId": "7c94e5f2-ebe1-4650-e594-5cb9e301b817"
      },
      "source": [
        "device = ('cuda' if torch.cuda.is_available else 'cpu')\n",
        "mymodel =mymodel.to(device)\n",
        "print(device)"
      ],
      "execution_count": null,
      "outputs": [
        {
          "output_type": "stream",
          "name": "stdout",
          "text": [
            "cuda\n"
          ]
        }
      ]
    },
    {
      "cell_type": "code",
      "metadata": {
        "id": "6eaSFMABRuyI"
      },
      "source": [
        "sig = nn.Sigmoid()\n",
        "def binary_acc(y_pred, y_test):\n",
        "    y_pred_2 = torch.tensor([0 if sig(i)< 0.5 else 1 for i in y_pred]).to(device)\n",
        "    correct_result_sum = (y_pred_2==y_test).sum().float()\n",
        "    return correct_result_sum.item()"
      ],
      "execution_count": null,
      "outputs": []
    },
    {
      "cell_type": "code",
      "metadata": {
        "colab": {
          "base_uri": "https://localhost:8080/"
        },
        "id": "3wDWcskPHBZj",
        "outputId": "26c9f631-d497-471d-b7f1-245ffaf9158b"
      },
      "source": [
        "epochs = 30\n",
        "criterion = nn.BCEWithLogitsLoss()\n",
        "opt = torch.optim.Adam(mymodel.parameters())\n",
        "losses = [] \n",
        "val_losses = []\n",
        "train_accuracy = []\n",
        "val_accuracy = []\n",
        "\n",
        "for epoch in range(epochs):\n",
        "  \n",
        "  t_loss = []\n",
        "  v_loss = []\n",
        "  t_acc = 0\n",
        "  v_acc = 0\n",
        "  \n",
        "  tic = time()\n",
        "\n",
        "  mymodel.train()\n",
        "\n",
        "  for batch in train_loader:\n",
        "    y_pred = mymodel.forward(batch[0].to(device))\n",
        "    opt.zero_grad()\n",
        "    # print(y_pred[0])\n",
        "    # print(batch[1][0])\n",
        "    loss = criterion(y_pred, batch[1].to(device))\n",
        "    t_loss.append(loss.item())\n",
        "    loss.backward()\n",
        "    opt.step()  \n",
        "    acc = binary_acc(y_pred, batch[1].to(device)) \n",
        "    t_acc += acc \n",
        "  losses.append(np.mean(t_loss)) \n",
        "  train_accuracy.append(t_acc/len(train_dataset))\n",
        "\n",
        "  mymodel.eval()\n",
        "  for batch in test_loader:\n",
        "    y_pred = mymodel.forward(batch[0].to(device))\n",
        "    with torch.no_grad():\n",
        "      loss = criterion(y_pred, batch[1].to(device))\n",
        "      v_loss.append(loss.item())  \n",
        "      acc = binary_acc(y_pred, batch[1].to(device)) \n",
        "      v_acc += acc \n",
        "  val_losses.append(np.mean(v_loss)) \n",
        "  val_accuracy.append(v_acc/len(test_dataset))\n",
        "\n",
        "  toc = time()\n",
        "  total_time =  toc - tic\n",
        "\n",
        "  line = f'Epoch {epoch}, loss : {losses[-1]} , accuracy : {train_accuracy[-1]} , val_loss : {val_losses[-1]} , val_accuracy : {val_accuracy[-1]} , time : {total_time}'\n",
        "  print(line)"
      ],
      "execution_count": null,
      "outputs": [
        {
          "output_type": "stream",
          "name": "stdout",
          "text": [
            "Epoch 0, loss : 0.6372946087609638 , accuracy : 32.07351111111111 , val_loss : 0.5834151275455952 , val_accuracy : 32.2408 , time : 92.08221316337585\n",
            "Epoch 1, loss : 0.5838766066696156 , accuracy : 32.114488888888886 , val_loss : 0.5351719066500664 , val_accuracy : 32.2776 , time : 92.10483002662659\n",
            "Epoch 2, loss : 0.5153897905891592 , accuracy : 32.20497777777778 , val_loss : 0.45388455837965014 , val_accuracy : 32.3304 , time : 92.88597536087036\n",
            "Epoch 3, loss : 0.44881601199846377 , accuracy : 32.20711111111111 , val_loss : 0.4183854855597019 , val_accuracy : 32.2784 , time : 91.27652788162231\n",
            "Epoch 4, loss : 0.40661643479358067 , accuracy : 32.26488888888889 , val_loss : 0.4034545049071312 , val_accuracy : 32.3264 , time : 92.98845601081848\n",
            "Epoch 5, loss : 0.36882998823950236 , accuracy : 32.27982222222222 , val_loss : 0.3723465662449598 , val_accuracy : 32.3424 , time : 93.71152234077454\n",
            "Epoch 6, loss : 0.3327286597341299 , accuracy : 32.29342222222222 , val_loss : 0.3640576243400574 , val_accuracy : 32.3528 , time : 91.74805617332458\n",
            "Epoch 7, loss : 0.29448101186955516 , accuracy : 32.35075555555556 , val_loss : 0.37930731400847434 , val_accuracy : 32.3568 , time : 92.95060539245605\n",
            "Epoch 8, loss : 0.2712468699213456 , accuracy : 32.34648888888889 , val_loss : 0.406884478032589 , val_accuracy : 32.3336 , time : 91.17971801757812\n",
            "Epoch 9, loss : 0.24337249488400464 , accuracy : 32.373333333333335 , val_loss : 0.4078534759581089 , val_accuracy : 32.3056 , time : 93.49622988700867\n",
            "Epoch 10, loss : 0.20847724477591162 , accuracy : 32.404177777777775 , val_loss : 0.4509347453713417 , val_accuracy : 32.3008 , time : 92.6959547996521\n",
            "Epoch 11, loss : 0.18541032544718208 , accuracy : 32.39137777777778 , val_loss : 0.5183471735566855 , val_accuracy : 32.2872 , time : 90.74563694000244\n",
            "Epoch 12, loss : 0.16352902037430217 , accuracy : 32.416355555555555 , val_loss : 0.5726012859493494 , val_accuracy : 32.3024 , time : 92.40243864059448\n",
            "Epoch 13, loss : 0.14558522029388274 , accuracy : 32.43511111111111 , val_loss : 0.5473057091236114 , val_accuracy : 32.3232 , time : 90.96799159049988\n",
            "Epoch 14, loss : 0.11783878350185907 , accuracy : 32.4544 , val_loss : 0.6778619363903999 , val_accuracy : 32.312 , time : 92.38386678695679\n",
            "Epoch 15, loss : 0.11146745944808406 , accuracy : 32.44764444444444 , val_loss : 0.6112798377871513 , val_accuracy : 32.3104 , time : 92.43579363822937\n",
            "Epoch 16, loss : 0.10005002620693465 , accuracy : 32.43964444444445 , val_loss : 0.7632490288466215 , val_accuracy : 32.2752 , time : 90.63836646080017\n",
            "Epoch 17, loss : 0.0884731099570424 , accuracy : 32.45928888888889 , val_loss : 0.8157631240785121 , val_accuracy : 32.2384 , time : 92.80570721626282\n",
            "Epoch 18, loss : 0.0825611746351404 , accuracy : 32.44871111111111 , val_loss : 0.7482697915285825 , val_accuracy : 32.3016 , time : 91.04875469207764\n",
            "Epoch 19, loss : 0.0752187160727441 , accuracy : 32.450044444444444 , val_loss : 0.7289454147219658 , val_accuracy : 32.2712 , time : 92.89148044586182\n",
            "Epoch 20, loss : 0.06882457188806836 , accuracy : 32.46586666666666 , val_loss : 0.7626653894782066 , val_accuracy : 32.2768 , time : 91.97748613357544\n",
            "Epoch 21, loss : 0.06573572623098946 , accuracy : 32.45386666666667 , val_loss : 0.7927171573042869 , val_accuracy : 32.3184 , time : 89.77827334403992\n",
            "Epoch 22, loss : 0.06485262701409572 , accuracy : 32.45448888888889 , val_loss : 0.7169685147702693 , val_accuracy : 32.3016 , time : 91.72561478614807\n",
            "Epoch 23, loss : 0.052805734406402655 , accuracy : 32.46622222222222 , val_loss : 0.7950625590980053 , val_accuracy : 32.3504 , time : 89.8880569934845\n",
            "Epoch 24, loss : 0.05335433566903124 , accuracy : 32.47555555555556 , val_loss : 0.8246007714420557 , val_accuracy : 32.368 , time : 90.91555452346802\n",
            "Epoch 25, loss : 0.055348430840240326 , accuracy : 32.46408888888889 , val_loss : 0.8699842356145382 , val_accuracy : 32.3832 , time : 89.66110849380493\n",
            "Epoch 26, loss : 0.045854284977064126 , accuracy : 32.471377777777775 , val_loss : 0.9685092687606811 , val_accuracy : 32.2608 , time : 91.23526883125305\n",
            "Epoch 27, loss : 0.04845464482935891 , accuracy : 32.47306666666667 , val_loss : 0.7881249487400055 , val_accuracy : 32.3048 , time : 89.36592125892639\n",
            "Epoch 28, loss : 0.047759687893796414 , accuracy : 32.477066666666666 , val_loss : 0.8372375905513764 , val_accuracy : 32.3536 , time : 91.0462293624878\n",
            "Epoch 29, loss : 0.04506177462065931 , accuracy : 32.46053333333333 , val_loss : 0.9462693862617015 , val_accuracy : 32.324 , time : 89.03642225265503\n"
          ]
        }
      ]
    }
  ]
}